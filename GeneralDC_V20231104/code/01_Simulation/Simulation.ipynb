{
 "cells": [
  {
   "attachments": {},
   "cell_type": "markdown",
   "id": "b60910d0",
   "metadata": {},
   "source": [
    "# 数据前处理以及构建基因显著性矩阵\n",
    "## 20231104\n",
    "## Dataset: Lung\n",
    "### 1, Down sampling from single-cell RNA-seq data for construction of Significant Matrix\n",
    "### 2, Create pseudo-bulk and simulate different tissue states"
   ]
  },
  {
   "cell_type": "code",
   "execution_count": 2,
   "id": "3a72fb77",
   "metadata": {},
   "outputs": [],
   "source": [
    "import pandas as pd\n",
    "import numpy as np\n",
    "import anndata\n",
    "import scanpy as sc\n",
    "from scipy.sparse import csr_matrix\n",
    "from scipy.stats import pearsonr,spearmanr\n",
    "from sklearn.metrics import mean_squared_error\n",
    "import matplotlib.pyplot as plt\n",
    "import matplotlib as mat\n",
    "import os\n",
    "import sys\n",
    "from scipy import stats\n",
    "import warnings\n",
    "from sklearn.preprocessing import MinMaxScaler,StandardScaler\n",
    "import random\n",
    "from  tqdm import tqdm\n",
    "\n",
    "\n",
    "warnings.filterwarnings(\"ignore\")"
   ]
  },
  {
   "attachments": {},
   "cell_type": "markdown",
   "id": "10aa4cdb",
   "metadata": {},
   "source": [
    "# 1, 构建测试Lung 显著性矩阵"
   ]
  },
  {
   "cell_type": "code",
   "execution_count": 17,
   "id": "de9c91f8",
   "metadata": {},
   "outputs": [],
   "source": [
    "# 下采样，构建显著性表达矩阵\n",
    "\n",
    "sc_adata = sc.read_h5ad(\"/aaa/zihanwu/yyyli2/projectx_General_Deconv/01_datasets/raw/Lung_counts.h5ad\")\n",
    "\n",
    "N = 20\n",
    "sc_adata_20 = sc_adata[sc_adata.obs.groupby(\"CellType\").sample(n=N,random_state=1,replace=False).index].copy()\n",
    "\n",
    "sc_adata_20.obs.celltype = sc_adata_20.obs.CellType\n",
    "\n",
    "sc_adata_20.obs.celltype.to_csv(\"01_datasets/raw/Lung_celltype9.csv\")\n",
    "\n",
    "sc_adata_20.to_df().T.to_csv(\"01_datasets/raw/Lung_counts_celltype9_down20.csv\")\n",
    "\n",
    "sc_adata_20.write_h5ad(\"01_datasets/raw/Lung_counts_down20_celltype9.h5ad\")\n",
    "sc_adata_20.obs.celltype.to_csv(\"01_datasets/raw/Lung_celltype9.txt\",sep=\"\\t\")\n",
    "\n",
    "sc_adata_20.to_df().T.to_csv(\"01_datasets/raw/Lung_counts_celltype9_down20.txt\",sep=\"\\t\")\n",
    "# input for CIBERSROTx\n"
   ]
  },
  {
   "cell_type": "code",
   "execution_count": 60,
   "id": "80c49d9d",
   "metadata": {},
   "outputs": [],
   "source": [
    "# 基于CIBERSORTx的结果，构建single cell h5ad\n",
    "sig_data = pd.read_table(\"/aaa/zihanwu/yyyli2/projectx_General_Deconv/01_datasets/data/Lung_celltype9_sig_matrix.txt\",sep=\"\\t\",index_col=0)\n",
    "\n",
    "sig_adata = sc.AnnData(X=csr_matrix(sig_data.T))\n",
    "sig_adata.var_names = sig_data.T.columns.values\n",
    "sig_adata.obs_names = sig_data.columns.values\n",
    "sig_adata.obs[\"celltype\"] = sig_data.columns.values\n",
    "\n",
    "sig_adata.obs.celltype = sig_adata.obs.celltype.astype('category')\n",
    "\n",
    "sig_adata.write_h5ad(\"/aaa/zihanwu/yyyli2/projectx_General_Deconv/01_datasets/data/Lung_celltype9_sig_counts.h5ad\")"
   ]
  },
  {
   "cell_type": "code",
   "execution_count": 46,
   "id": "667633bc",
   "metadata": {},
   "outputs": [],
   "source": [
    "# 构建pseudo bulk h5ad files from simulted data\n",
    "# create Bulk Protein h5ad files\n",
    "bulk_data = pd.read_table(\"/aaa/zihanwu/yyyli2/projectx_General_Deconv/01_datasets/raw/Lung_pseudobulk_counts.txt\",sep=\"\\t\",index_col=0)\n",
    "meta_data = pd.read_table(\"/aaa/zihanwu/yyyli2/projectx_General_Deconv/01_datasets/raw/Lung_pseudobulk_counts_label.txt\",sep=\"\\t\",index_col=0)\n",
    "bulk_adata = sc.AnnData(X=csr_matrix(bulk_data.T))\n",
    "bulk_adata.var_names = bulk_data.T.columns.values\n",
    "bulk_adata.obs_names = bulk_data.columns.values\n",
    "\n",
    "bulk_adata.uns[\"celltype_gd\"] = meta_data\n",
    "\n",
    "bulk_adata.write_h5ad(\"/aaa/zihanwu/yyyli2/projectx_General_Deconv/01_datasets/data/Lung_pseudobulk_counts.h5ad\")"
   ]
  },
  {
   "cell_type": "code",
   "execution_count": 27,
   "id": "fd4cfe1a",
   "metadata": {},
   "outputs": [],
   "source": [
    "# 2, 构建Pseudo bulk"
   ]
  },
  {
   "cell_type": "code",
   "execution_count": 3,
   "id": "1ce9d496",
   "metadata": {},
   "outputs": [],
   "source": [
    "\n",
    "def generate_simulated_data(prop,sc_data, cell_type_obs=\"celltype\"):\n",
    "\n",
    "    if isinstance(sc_data.X, np.ndarray):\n",
    "        pass\n",
    "    else:\n",
    "        sc_data.X = sc_data.X.toarray() #73 * 10466\n",
    "\n",
    "    sc_data = pd.DataFrame(sc_data.X, index=sc_data.obs[cell_type_obs], columns=sc_data.var.index)\n",
    "    # sc_data.dropna(inplace=True)\n",
    "    sc_data[cell_type_obs] = sc_data.index\n",
    "    sc_data.index = range(len(sc_data))\n",
    "    celltype_groups = sc_data.groupby(cell_type_obs).groups\n",
    "\n",
    "    sc_data.drop(columns=cell_type_obs, inplace=True)\n",
    "\n",
    "    sc_data = anndata.AnnData(sc_data)\n",
    "    sc_data = sc_data.X\n",
    "    sc_data = np.ascontiguousarray(sc_data, dtype=np.float32)\n",
    "\n",
    "    for key, value in celltype_groups.items():\n",
    "        celltype_groups[key] = np.array(value)    \n",
    "\n",
    "    n = np.random.randint(100,20000,size=prop.shape[0]).reshape(-1,1) # 模拟bulk中细胞的整体数量\n",
    "    cell_num = np.floor(n * prop)\n",
    "\n",
    "    # precise proportion based on cell_num\n",
    "    prop = cell_num / np.sum(cell_num, axis=1).reshape(-1, 1)\n",
    "    sample = np.zeros((prop.shape[0], sc_data.shape[1])) # 1000 * 253\n",
    "    \n",
    "    allcellname = celltype_groups.keys() # dict_keys, 19\n",
    "\n",
    "    for i, sample_prop in tqdm(enumerate(cell_num)): # 每个pseudo-spot中对应的cell-type的细胞数量\n",
    "        for j, cellname in enumerate(allcellname): # 对应的cell-type[1-19]\n",
    "            select_index = np.random.choice(celltype_groups[cellname], size=int(sample_prop[j]), replace=True) # 从cell-type抽取该数量的cell\n",
    "            sample[i] += sc_data[select_index].sum(axis=0) # 对于同种类型细胞，进行累加。输出单个spot，单个细胞类型对应的基因表达量。\n",
    "\n",
    "\n",
    "    _spot_data = sample\n",
    "    _spot_type = prop\n",
    "    return (_spot_data,_spot_type)"
   ]
  },
  {
   "cell_type": "code",
   "execution_count": 26,
   "id": "54b0656f",
   "metadata": {},
   "outputs": [
    {
     "name": "stdout",
     "output_type": "stream",
     "text": [
      "==== Rare======\n"
     ]
    },
    {
     "name": "stderr",
     "output_type": "stream",
     "text": [
      "100it [01:18,  1.28it/s]\n"
     ]
    },
    {
     "name": "stdout",
     "output_type": "stream",
     "text": [
      "==== Normal======\n"
     ]
    },
    {
     "name": "stderr",
     "output_type": "stream",
     "text": [
      "100it [01:33,  1.06it/s]\n"
     ]
    },
    {
     "name": "stdout",
     "output_type": "stream",
     "text": [
      "==== Similar======\n"
     ]
    },
    {
     "name": "stderr",
     "output_type": "stream",
     "text": [
      "100it [01:17,  1.29it/s]\n"
     ]
    }
   ],
   "source": [
    "# create pseudo bulk h5ad files with all genes.\n",
    "# test different conditions: Rare, Normal, Similar\n",
    "sc_adata = sc.read_h5ad(\"/aaa/zihanwu/yyyli2/projectx_General_Deconv/01_datasets/raw/Lung_counts.h5ad\")\n",
    "celltype_order = ['B cell', 'T cell',\n",
    "       'ciliated columnar cell of tracheobronchial tree',\n",
    "       'classical monocyte', 'leukocyte', 'lung endothelial cell',\n",
    "       'myeloid cell', 'natural killer cell', 'stromal cell']\n",
    "for state in [\"Rare\", \"Normal\", \"Similar\"]:\n",
    "       if (state == \"Rare\"):\n",
    "              prop = np.random.dirichlet(np.ones(9)*0.5, 100)\n",
    "       elif (state == \"Normal\"):\n",
    "              prop = np.random.dirichlet(np.ones(9)*1, 100)\n",
    "       elif (state == \"Similar\"):\n",
    "              prop = np.random.dirichlet(np.ones(9)*2, 100)\n",
    "\n",
    "       print(f\"==== {state}======\")\n",
    "\n",
    "       for seed in [0]:\n",
    "              random.seed(seed)\n",
    "\n",
    "              spot_data,temp_prop = generate_simulated_data(prop=prop, sc_data=sc_adata,cell_type_obs=\"celltype\")\n",
    "\n",
    "              sp_adata = sc.AnnData(X=csr_matrix(spot_data))\n",
    "              sp_adata.var_names  = sc_adata.var_names\n",
    "\n",
    "              sp_adata.uns['celltype_gd'] = pd.DataFrame(temp_prop,columns= celltype_order,\n",
    "                                                        index=sp_adata.obs.index)\n",
    "              \n",
    "              sp_adata.write_h5ad(f\"/aaa/zihanwu/yyyli2/projectx_General_Deconv/01_datasets/simulated/Lung_sim_{state}_{seed}.h5ad\")\n",
    "              sp_adata.uns['celltype_gd'].to_csv(f\"/aaa/zihanwu/yyyli2/projectx_General_Deconv/01_datasets/simulated/Lung_sim_{state}_{seed}.csv\")"
   ]
  }
 ],
 "metadata": {
  "kernelspec": {
   "display_name": "Environment (cell2loc_env)",
   "language": "python",
   "name": "cell2loc_env"
  },
  "language_info": {
   "codemirror_mode": {
    "name": "ipython",
    "version": 3
   },
   "file_extension": ".py",
   "mimetype": "text/x-python",
   "name": "python",
   "nbconvert_exporter": "python",
   "pygments_lexer": "ipython3",
   "version": "3.9.16"
  }
 },
 "nbformat": 4,
 "nbformat_minor": 5
}
